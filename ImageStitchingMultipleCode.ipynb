{
  "nbformat": 4,
  "nbformat_minor": 0,
  "metadata": {
    "accelerator": "TPU",
    "colab": {
      "name": "ImageStitching_Multiple.ipynb",
      "provenance": [],
      "collapsed_sections": []
    },
    "kernelspec": {
      "display_name": "Python 3",
      "language": "python",
      "name": "python3"
    },
    "language_info": {
      "codemirror_mode": {
        "name": "ipython",
        "version": 3
      },
      "file_extension": ".py",
      "mimetype": "text/x-python",
      "name": "python",
      "nbconvert_exporter": "python",
      "pygments_lexer": "ipython3",
      "version": "3.8.3"
    }
  },
  "cells": [
    {
      "cell_type": "code",
      "metadata": {
        "colab": {
          "base_uri": "https://localhost:8080/"
        },
        "id": "dFj-b_xmfogW",
        "outputId": "5ba43c45-de4e-4f15-d366-3b8547894074"
      },
      "source": [
        "from google.colab import drive\n",
        "drive.mount('/content/drive')"
      ],
      "execution_count": null,
      "outputs": [
        {
          "output_type": "stream",
          "text": [
            "Drive already mounted at /content/drive; to attempt to forcibly remount, call drive.mount(\"/content/drive\", force_remount=True).\n"
          ],
          "name": "stdout"
        }
      ]
    },
    {
      "cell_type": "code",
      "metadata": {
        "id": "xflwqA72ahTC"
      },
      "source": [
        "import cv2 as cv\n",
        "import os\n",
        "import numpy as np\n",
        "import glob\n",
        "import imutils\n",
        "import matplotlib.pyplot as plt"
      ],
      "execution_count": null,
      "outputs": []
    },
    {
      "cell_type": "code",
      "metadata": {
        "id": "PmB_45tPda89"
      },
      "source": [
        "path = '/content/drive/MyDrive/Matched1/'"
      ],
      "execution_count": null,
      "outputs": []
    },
    {
      "cell_type": "code",
      "metadata": {
        "id": "hPtls9QzddDA"
      },
      "source": [
        "data_path = os.path.join(path, '*jpeg')\n",
        "files = glob.glob(data_path)\n",
        "files = sorted(files)\n",
        "data = []\n",
        "for f1 in files:\n",
        "    #print(f1)\n",
        "    img = cv.imread(f1)\n",
        "    #img = cv.rotate(img, cv.cv.ROTATE_90_CLOCKWISE)\n",
        "    data.append(img)"
      ],
      "execution_count": null,
      "outputs": []
    },
    {
      "cell_type": "code",
      "metadata": {
        "id": "JMVmgmiUeFmi"
      },
      "source": [
        "gray = []\n",
        "for f2 in data:\n",
        "    img_gry = cv.cvtColor(f2,cv.COLOR_BGR2GRAY)\n",
        "    gray.append(img_gry)"
      ],
      "execution_count": null,
      "outputs": []
    },
    {
      "cell_type": "code",
      "metadata": {
        "colab": {
          "base_uri": "https://localhost:8080/"
        },
        "id": "JmWNUvPLSdUd",
        "outputId": "faa47f30-9875-4c36-c206-ea12f7e30ef9"
      },
      "source": [
        "print(cv.__version__)"
      ],
      "execution_count": null,
      "outputs": [
        {
          "output_type": "stream",
          "text": [
            "4.4.0\n"
          ],
          "name": "stdout"
        }
      ]
    },
    {
      "cell_type": "code",
      "metadata": {
        "colab": {
          "base_uri": "https://localhost:8080/",
          "height": 280
        },
        "id": "Q5-F_CDBSb9p",
        "outputId": "b5ed1cf2-7606-404e-ca16-db35e8877bbb"
      },
      "source": [
        "!pip install opencv-contrib-python==4.4.0.44"
      ],
      "execution_count": null,
      "outputs": [
        {
          "output_type": "stream",
          "text": [
            "Collecting opencv-contrib-python==4.4.0.44\n",
            "\u001b[?25l  Downloading https://files.pythonhosted.org/packages/20/d9/69a0c855c6e11037574e303bd158abf63c1e328ff16dfb175ca5599cc77d/opencv_contrib_python-4.4.0.44-cp37-cp37m-manylinux2014_x86_64.whl (55.7MB)\n",
            "\u001b[K     |████████████████████████████████| 55.7MB 66kB/s \n",
            "\u001b[?25hRequirement already satisfied: numpy>=1.14.5 in /usr/local/lib/python3.7/dist-packages (from opencv-contrib-python==4.4.0.44) (1.19.5)\n",
            "Installing collected packages: opencv-contrib-python\n",
            "  Found existing installation: opencv-contrib-python 4.1.2.30\n",
            "    Uninstalling opencv-contrib-python-4.1.2.30:\n",
            "      Successfully uninstalled opencv-contrib-python-4.1.2.30\n",
            "Successfully installed opencv-contrib-python-4.4.0.44\n"
          ],
          "name": "stdout"
        },
        {
          "output_type": "display_data",
          "data": {
            "application/vnd.colab-display-data+json": {
              "pip_warning": {
                "packages": [
                  "cv2"
                ]
              }
            }
          },
          "metadata": {
            "tags": []
          }
        }
      ]
    },
    {
      "cell_type": "code",
      "metadata": {
        "id": "nxm47bqKHeY5"
      },
      "source": [
        "# create SIFT feature extractor\n",
        "sift = cv.xfeatures2d.SIFT_create()"
      ],
      "execution_count": null,
      "outputs": []
    },
    {
      "cell_type": "code",
      "metadata": {
        "colab": {
          "base_uri": "https://localhost:8080/"
        },
        "id": "u2F7tJ_QCSXe",
        "outputId": "f90978e4-1c11-4c6f-df6f-07407850d4e2"
      },
      "source": [
        "keyp = list()\n",
        "descr = list()\n",
        "print(len(keyp))\n",
        "print(len(descr))"
      ],
      "execution_count": null,
      "outputs": [
        {
          "output_type": "stream",
          "text": [
            "0\n",
            "0\n"
          ],
          "name": "stdout"
        }
      ]
    },
    {
      "cell_type": "code",
      "metadata": {
        "id": "a-XuurruU76U"
      },
      "source": [
        "for f3 in gray:\n",
        "    a, b = sift.detectAndCompute(f3, None)\n",
        "    keyp.append(a)\n",
        "    descr.append(b)"
      ],
      "execution_count": null,
      "outputs": []
    },
    {
      "cell_type": "code",
      "metadata": {
        "id": "u_ESfSESVk3n"
      },
      "source": [
        "bf = cv.BFMatcher(cv.NORM_L2, crossCheck=False)"
      ],
      "execution_count": null,
      "outputs": []
    },
    {
      "cell_type": "code",
      "metadata": {
        "colab": {
          "base_uri": "https://localhost:8080/"
        },
        "id": "blik3dCFCqfL",
        "outputId": "3da9d46d-0458-453a-a635-86ca664600cd"
      },
      "source": [
        "mtch = list()\n",
        "print(len(mtch))\n",
        "tmp = list()"
      ],
      "execution_count": null,
      "outputs": [
        {
          "output_type": "stream",
          "text": [
            "0\n"
          ],
          "name": "stdout"
        }
      ]
    },
    {
      "cell_type": "code",
      "metadata": {
        "id": "QYaYnbmd4wYi"
      },
      "source": [
        "mtch = []\n",
        "j1 = 0\n",
        "while j1 < (len(descr) - 1):\n",
        "    a = descr[j1]\n",
        "    b = descr[j1 + 1]\n",
        "    c = bf.knnMatch(a,b,2)\n",
        "    matches = []\n",
        "\n",
        "    # loop over the raw matches\n",
        "    for m,n in c:\n",
        "        # ensure the distance is within a certain ratio of each\n",
        "        # other (i.e. Lowe's ratio test)\n",
        "        if m.distance < n.distance * 0.75:\n",
        "            matches.append(m)\n",
        "    mtch.append(matches)\n",
        "    j1 = j1 + 2"
      ],
      "execution_count": null,
      "outputs": []
    },
    {
      "cell_type": "code",
      "metadata": {
        "colab": {
          "base_uri": "https://localhost:8080/"
        },
        "id": "AxGDCEsjC9Dw",
        "outputId": "6cc0ee4b-b792-4583-c591-1016d27284e8"
      },
      "source": [
        "#List of matched images\n",
        "mtch_img = list()\n",
        "print(len(mtch_img))\n",
        "print(len(gray))"
      ],
      "execution_count": null,
      "outputs": [
        {
          "output_type": "stream",
          "text": [
            "0\n",
            "5\n"
          ],
          "name": "stdout"
        }
      ]
    },
    {
      "cell_type": "code",
      "metadata": {
        "id": "nYX_mM4DWlv9"
      },
      "source": [
        "k = 0\n",
        "j = 0\n",
        "while j < (len(data) - 1):\n",
        "    m = cv.drawMatches(data[j+1], keyp[j], data[j], keyp[j+1], mtch[k][:100], None, flags=cv.DrawMatchesFlags_NOT_DRAW_SINGLE_POINTS)\n",
        "    mtch_img.append(m)\n",
        "    j = j + 2\n",
        "    k = k + 1"
      ],
      "execution_count": null,
      "outputs": []
    },
    {
      "cell_type": "code",
      "metadata": {
        "id": "JP3Xf-jovGkP"
      },
      "source": [
        "#Apply Homography\n",
        "i = 0\n",
        "j = 0\n",
        "k = 0\n",
        "M = []\n",
        "homo = []\n",
        "while i < (len(keyp) - 1):\n",
        "    j = i + 1\n",
        "    a = np.float32([kp.pt for kp in keyp[i]])\n",
        "    b = np.float32([kp.pt for kp in keyp[j]])\n",
        "    #if len(mtch[k]) > 4:\n",
        "    pts_a = np.float32([a[m.queryIdx] for m in mtch[k]])\n",
        "    pts_b = np.float32([b[m.trainIdx] for m in mtch[k]])\n",
        "    H, status = cv.findHomography(pts_a, pts_b, cv.RANSAC, 4)\n",
        "    M.append((mtch[k], H, status))\n",
        "    homo.append(H)\n",
        "    #else:\n",
        "        #homo.append(None)\n",
        "    i = i + 2\n",
        "    k = k + 1"
      ],
      "execution_count": null,
      "outputs": []
    },
    {
      "cell_type": "code",
      "metadata": {
        "colab": {
          "base_uri": "https://localhost:8080/"
        },
        "id": "ClI5ohtnoytL",
        "outputId": "c7cab4f2-8742-4616-b325-2de8eb7cf4d5"
      },
      "source": [
        "for H in homo:\n",
        "    print(H)"
      ],
      "execution_count": null,
      "outputs": [
        {
          "output_type": "stream",
          "text": [
            "[[ 1.00007760e+00  9.26428022e-06 -8.88072053e+02]\n",
            " [-1.62972862e-07  1.00008303e+00  3.99003142e+00]\n",
            " [ 4.76383600e-08  3.07219331e-08  1.00000000e+00]]\n",
            "[[ 9.50495563e-01 -4.64791486e-02 -8.19480342e+02]\n",
            " [ 6.00765335e-02  7.67688585e-01  8.05279762e+01]\n",
            " [ 5.57123163e-05 -1.60392660e-04  1.00000000e+00]]\n"
          ],
          "name": "stdout"
        }
      ]
    },
    {
      "cell_type": "code",
      "metadata": {
        "id": "HFCoGWwndakP"
      },
      "source": [
        "# Apply panorama correction\n",
        "res = []\n",
        "i = 0\n",
        "k = 0\n",
        "while i < (len(data) - 1):\n",
        "    w = data[i+1].shape[1] + data[i].shape[1]\n",
        "    h = data[i+1].shape[0] + data[i].shape[0]\n",
        "    r = cv.warpPerspective(data[i+1], homo[k], (w,h))\n",
        "    r[0:data[i].shape[0], 0:data[i].shape[1]] = data[i]\n",
        "    res.append(r)\n",
        "    i = i + 2\n",
        "    k = k + 1"
      ],
      "execution_count": null,
      "outputs": []
    },
    {
      "cell_type": "code",
      "metadata": {
        "id": "amQtiqZsfUwM"
      },
      "source": [
        "res_final = []\n",
        "for r in res:\n",
        "    # transform the panorama image to grayscale and threshold it \n",
        "    g = cv.cvtColor(r, cv.COLOR_BGR2GRAY)\n",
        "    thresh = cv.threshold(g, 0, 255, cv.THRESH_BINARY)[1]\n",
        "\n",
        "    # Finds contours from the binary image\n",
        "    cnts = cv.findContours(thresh.copy(), cv.RETR_EXTERNAL, cv.CHAIN_APPROX_SIMPLE)\n",
        "    cnts = imutils.grab_contours(cnts)\n",
        "\n",
        "    # get the maximum contour area\n",
        "    c = max(cnts, key=cv.contourArea)\n",
        "\n",
        "    # get a bbox from the contour area\n",
        "    (x, y, w, h) = cv.boundingRect(c)\n",
        "\n",
        "    # crop the image to the bbox coordinates\n",
        "    r1 = r[y:y + h, x:x + w]\n",
        "    res_final.append(r1)"
      ],
      "execution_count": null,
      "outputs": []
    },
    {
      "cell_type": "code",
      "metadata": {
        "id": "I36--5ytcpbx"
      },
      "source": [
        "p1 = \"/content/drive/MyDrive/Matched1/\"\n",
        "#os.mkdir(p1)"
      ],
      "execution_count": null,
      "outputs": []
    },
    {
      "cell_type": "code",
      "metadata": {
        "id": "M6Kjv5VsgOrU"
      },
      "source": [
        "res_final1 = []\n",
        "for r in res_final:\n",
        "    result = cv.rotate(r, cv2.ROTATE_90_COUNTERCLOCKWISE)\n",
        "    plt.imshow(result)\n",
        "    res_final1.append(result)"
      ],
      "execution_count": null,
      "outputs": []
    },
    {
      "cell_type": "code",
      "metadata": {
        "id": "-6szdJnzlOUF"
      },
      "source": [
        "d = int(0)\n",
        "for f4 in res_final:\n",
        "    cv.imwrite(p1+\"matched_\"+str(d)+\".jpeg\", f4)\n",
        "    d = d + 1"
      ],
      "execution_count": null,
      "outputs": []
    }
  ]
}